{
 "cells": [
  {
   "cell_type": "code",
   "execution_count": 5,
   "id": "optimum-omaha",
   "metadata": {},
   "outputs": [],
   "source": [
    "import numpy as np\n",
    "import matplotlib.pyplot as plt"
   ]
  },
  {
   "cell_type": "code",
   "execution_count": 6,
   "id": "choice-jason",
   "metadata": {},
   "outputs": [],
   "source": [
    "def load_data(type_text):\n",
    "    f_data = open('emnist/emnist-byclass-'+ type_text + '-images-idx3-ubyte')\n",
    "    f_data = np.fromfile(file=f_data, dtype=np.uint8)\n",
    "    f_data = f_data[16:].reshape(-1, 28, 28).astype(np.uint8)\n",
    "    f_label = open('emnist/emnist-byclass-'+ type_text + '-labels-idx1-ubyte')\n",
    "    f_label = np.fromfile(file=f_label, dtype=np.uint8)\n",
    "    f_label = f_label[8:].reshape(-1).astype(np.uint8)\n",
    "    return f_data, f_label"
   ]
  },
  {
   "cell_type": "code",
   "execution_count": 7,
   "id": "impressive-vaccine",
   "metadata": {},
   "outputs": [],
   "source": [
    "train_data, train_label = load_data('train')\n",
    "test_data, test_label = load_data('test')"
   ]
  },
  {
   "cell_type": "code",
   "execution_count": 36,
   "id": "fitted-shoot",
   "metadata": {},
   "outputs": [],
   "source": [
    "# find all class where is index?\n",
    "index_dict = {}\n",
    "for x in range(62):\n",
    "    index_dict[x] = []\n",
    "for index, category in enumerate(test_label):\n",
    "    index_dict[category].append(index)"
   ]
  },
  {
   "cell_type": "code",
   "execution_count": 62,
   "id": "systematic-programmer",
   "metadata": {},
   "outputs": [
    {
     "name": "stdout",
     "output_type": "stream",
     "text": [
      "Class 34\n"
     ]
    },
    {
     "data": {
      "image/png": "[encoded data removed]",
      "text/plain": [
       "<Figure size 432x288 with 1 Axes>"
      ]
     },
     "metadata": {
      "needs_background": "light"
     },
     "output_type": "display_data"
    }
   ],
   "source": [
    "ptr = index_dict[34][99]\n",
    "print(\"Class {c}\".format(c=test_label[ptr]))\n",
    "plt.imshow(test_data[ptr], interpolation='none')\n",
    "plt.show()"
   ]
  },
  {
   "cell_type": "code",
   "execution_count": null,
   "id": "cellular-tunisia",
   "metadata": {},
   "outputs": [],
   "source": [
    "# Note:\n",
    "# start from 0 to 61\n",
    "# 0,1,2,3,4,5,6,7,8,9,A...Z,a...Z"
   ]
  }
 ],
 "metadata": {
  "kernelspec": {
   "display_name": "Python 3",
   "language": "python",
   "name": "python3"
  },
  "language_info": {
   "codemirror_mode": {
    "name": "ipython",
    "version": 3
   },
   "file_extension": ".py",
   "mimetype": "text/x-python",
   "name": "python",
   "nbconvert_exporter": "python",
   "pygments_lexer": "ipython3",
   "version": "3.8.8"
  }
 },
 "nbformat": 4,
 "nbformat_minor": 5
}
