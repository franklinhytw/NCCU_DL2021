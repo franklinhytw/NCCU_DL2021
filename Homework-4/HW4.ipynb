{
 "cells": [
  {
   "cell_type": "markdown",
   "metadata": {},
   "source": [
    "### Reference:\n",
    "https://ithelp.ithome.com.tw/articles/10223922\n",
    "<br>\n",
    "https://github.com/johngilbert2000/sentiment140_with_fastai/blob/master/TF_NLP_sentiment140.ipynb\n",
    "<br>\n",
    "https://blog.csdn.net/xc_zhou/article/details/88669669"
   ]
  },
  {
   "cell_type": "code",
   "execution_count": 1,
   "metadata": {},
   "outputs": [],
   "source": [
    "import numpy as np\n",
    "import pandas as pd\n",
    "import datetime\n",
    "\n",
    "import tensorflow_datasets as tfds\n",
    "import tensorflow as tf\n",
    "from tensorflow.keras.layers import *\n",
    "from tensorflow.keras.utils import to_categorical, plot_model\n",
    "from tensorflow.keras.callbacks import TensorBoard"
   ]
  },
  {
   "cell_type": "code",
   "execution_count": 2,
   "metadata": {},
   "outputs": [],
   "source": [
    "pd.set_option('display.max_rows', None)\n",
    "pd.set_option('display.max_columns', None)\n",
    "pd.set_option('display.width', None)"
   ]
  },
  {
   "cell_type": "code",
   "execution_count": 3,
   "metadata": {},
   "outputs": [],
   "source": [
    "import matplotlib.pyplot as plt\n",
    "\n",
    "def plot_graphs(history, metric):\n",
    "  plt.plot(history.history[metric])\n",
    "  plt.plot(history.history['val_'+metric], '')\n",
    "  plt.xlabel(\"Epochs\")\n",
    "  plt.ylabel(metric)\n",
    "  plt.legend([metric, 'val_'+metric])"
   ]
  },
  {
   "cell_type": "markdown",
   "metadata": {},
   "source": [
    "### Loading Training Data from csv file"
   ]
  },
  {
   "cell_type": "code",
   "execution_count": 4,
   "metadata": {},
   "outputs": [],
   "source": [
    "df = pd.read_csv(\"dataset/training.1600000.processed.noemoticon.csv\", usecols=[0,5], header=None, names=['label','text'],encoding='latin-1')"
   ]
  },
  {
   "cell_type": "code",
   "execution_count": 5,
   "metadata": {},
   "outputs": [
    {
     "data": {
      "text/html": [
       "<div>\n",
       "<style scoped>\n",
       "    .dataframe tbody tr th:only-of-type {\n",
       "        vertical-align: middle;\n",
       "    }\n",
       "\n",
       "    .dataframe tbody tr th {\n",
       "        vertical-align: top;\n",
       "    }\n",
       "\n",
       "    .dataframe thead th {\n",
       "        text-align: right;\n",
       "    }\n",
       "</style>\n",
       "<table border=\"1\" class=\"dataframe\">\n",
       "  <thead>\n",
       "    <tr style=\"text-align: right;\">\n",
       "      <th></th>\n",
       "      <th>label</th>\n",
       "      <th>text</th>\n",
       "    </tr>\n",
       "  </thead>\n",
       "  <tbody>\n",
       "    <tr>\n",
       "      <th>1599995</th>\n",
       "      <td>4</td>\n",
       "      <td>Just woke up. Having no school is the best fee...</td>\n",
       "    </tr>\n",
       "    <tr>\n",
       "      <th>1599996</th>\n",
       "      <td>4</td>\n",
       "      <td>TheWDB.com - Very cool to hear old Walt interv...</td>\n",
       "    </tr>\n",
       "    <tr>\n",
       "      <th>1599997</th>\n",
       "      <td>4</td>\n",
       "      <td>Are you ready for your MoJo Makeover? Ask me f...</td>\n",
       "    </tr>\n",
       "    <tr>\n",
       "      <th>1599998</th>\n",
       "      <td>4</td>\n",
       "      <td>Happy 38th Birthday to my boo of alll time!!! ...</td>\n",
       "    </tr>\n",
       "    <tr>\n",
       "      <th>1599999</th>\n",
       "      <td>4</td>\n",
       "      <td>happy #charitytuesday @theNSPCC @SparksCharity...</td>\n",
       "    </tr>\n",
       "  </tbody>\n",
       "</table>\n",
       "</div>"
      ],
      "text/plain": [
       "         label                                               text\n",
       "1599995      4  Just woke up. Having no school is the best fee...\n",
       "1599996      4  TheWDB.com - Very cool to hear old Walt interv...\n",
       "1599997      4  Are you ready for your MoJo Makeover? Ask me f...\n",
       "1599998      4  Happy 38th Birthday to my boo of alll time!!! ...\n",
       "1599999      4  happy #charitytuesday @theNSPCC @SparksCharity..."
      ]
     },
     "execution_count": 5,
     "metadata": {},
     "output_type": "execute_result"
    }
   ],
   "source": [
    "df.tail(5)"
   ]
  },
  {
   "cell_type": "code",
   "execution_count": 6,
   "metadata": {},
   "outputs": [
    {
     "data": {
      "text/plain": [
       "0    800000\n",
       "4    800000\n",
       "Name: label, dtype: int64"
      ]
     },
     "execution_count": 6,
     "metadata": {},
     "output_type": "execute_result"
    }
   ],
   "source": [
    "df.label.value_counts()"
   ]
  },
  {
   "cell_type": "code",
   "execution_count": 7,
   "metadata": {},
   "outputs": [
    {
     "data": {
      "text/html": [
       "<div>\n",
       "<style scoped>\n",
       "    .dataframe tbody tr th:only-of-type {\n",
       "        vertical-align: middle;\n",
       "    }\n",
       "\n",
       "    .dataframe tbody tr th {\n",
       "        vertical-align: top;\n",
       "    }\n",
       "\n",
       "    .dataframe thead th {\n",
       "        text-align: right;\n",
       "    }\n",
       "</style>\n",
       "<table border=\"1\" class=\"dataframe\">\n",
       "  <thead>\n",
       "    <tr style=\"text-align: right;\">\n",
       "      <th></th>\n",
       "      <th>label</th>\n",
       "      <th>text</th>\n",
       "    </tr>\n",
       "  </thead>\n",
       "  <tbody>\n",
       "    <tr>\n",
       "      <th>86317</th>\n",
       "      <td>0</td>\n",
       "      <td>Hola  back from shopping what a complete waste...</td>\n",
       "    </tr>\n",
       "    <tr>\n",
       "      <th>418509</th>\n",
       "      <td>0</td>\n",
       "      <td>@scribblegurl Are you able to take any kind of...</td>\n",
       "    </tr>\n",
       "    <tr>\n",
       "      <th>127848</th>\n",
       "      <td>0</td>\n",
       "      <td>i didnt</td>\n",
       "    </tr>\n",
       "    <tr>\n",
       "      <th>74967</th>\n",
       "      <td>0</td>\n",
       "      <td>should rather do the maths assignment than the...</td>\n",
       "    </tr>\n",
       "    <tr>\n",
       "      <th>823240</th>\n",
       "      <td>2</td>\n",
       "      <td>@TrendTracker I will</td>\n",
       "    </tr>\n",
       "  </tbody>\n",
       "</table>\n",
       "</div>"
      ],
      "text/plain": [
       "        label                                               text\n",
       "86317       0  Hola  back from shopping what a complete waste...\n",
       "418509      0  @scribblegurl Are you able to take any kind of...\n",
       "127848      0                                           i didnt \n",
       "74967       0  should rather do the maths assignment than the...\n",
       "823240      2                              @TrendTracker I will "
      ]
     },
     "execution_count": 7,
     "metadata": {},
     "output_type": "execute_result"
    }
   ],
   "source": [
    "# PREPARE DATA\n",
    "\n",
    "# Randomize data\n",
    "df = df.iloc[np.random.permutation(len(df))]\n",
    "\n",
    "# For Classification: Convert Labels to negative = 0, neutral = 1, postive = 2 \n",
    "df.loc[df['label'] == 4, 'label'] = 2\n",
    "\n",
    "df.head()"
   ]
  },
  {
   "cell_type": "code",
   "execution_count": 8,
   "metadata": {},
   "outputs": [],
   "source": [
    "# CREATE SUBSETS\n",
    "splits = 5\n",
    "# Equal length subsets of original dataframe\n",
    "cut_indices = [int(i*(1/splits)*len(df)) for i in range(0,splits+1)] # indices where df is to be cut\n",
    "segment_indices = zip(cut_indices[:-1], cut_indices[1:]) # indices for each cut segment\n",
    "valids = [df[begin:end] for begin,end in segment_indices] # subsets each to be used as validation sets\n",
    "\n",
    "# Training sets for each validation set in valids\n",
    "trains = [pd.concat(valids[1:], axis=0)]\n",
    "for n in range(1,splits):\n",
    "    trains += [pd.concat(valids[:n]+valids[n+1:], axis=0)] # (all sets except for set n in range(splits))\n",
    "\n",
    "# Validation and Training Sets to be used\n",
    "validation = valids[0]\n",
    "training = trains[0]"
   ]
  },
  {
   "cell_type": "code",
   "execution_count": 9,
   "metadata": {},
   "outputs": [
    {
     "data": {
      "text/plain": [
       "1.00285625"
      ]
     },
     "execution_count": 9,
     "metadata": {},
     "output_type": "execute_result"
    }
   ],
   "source": [
    "# a mean close to 0.5 for labels indicates a well balanced dataset\n",
    "validation['label'].describe()['mean']"
   ]
  },
  {
   "cell_type": "code",
   "execution_count": 10,
   "metadata": {},
   "outputs": [
    {
     "data": {
      "text/html": [
       "<div>\n",
       "<style scoped>\n",
       "    .dataframe tbody tr th:only-of-type {\n",
       "        vertical-align: middle;\n",
       "    }\n",
       "\n",
       "    .dataframe tbody tr th {\n",
       "        vertical-align: top;\n",
       "    }\n",
       "\n",
       "    .dataframe thead th {\n",
       "        text-align: right;\n",
       "    }\n",
       "</style>\n",
       "<table border=\"1\" class=\"dataframe\">\n",
       "  <thead>\n",
       "    <tr style=\"text-align: right;\">\n",
       "      <th></th>\n",
       "      <th>label</th>\n",
       "      <th>text</th>\n",
       "    </tr>\n",
       "  </thead>\n",
       "  <tbody>\n",
       "    <tr>\n",
       "      <th>818283</th>\n",
       "      <td>2</td>\n",
       "      <td>Heading out to the mall and the park with my k...</td>\n",
       "    </tr>\n",
       "    <tr>\n",
       "      <th>622143</th>\n",
       "      <td>0</td>\n",
       "      <td>You'd think I'd know by now, but leaving car w...</td>\n",
       "    </tr>\n",
       "    <tr>\n",
       "      <th>1384971</th>\n",
       "      <td>2</td>\n",
       "      <td>@ThomasGudgeon Looks good</td>\n",
       "    </tr>\n",
       "    <tr>\n",
       "      <th>1243910</th>\n",
       "      <td>2</td>\n",
       "      <td>Writing loads of  letters &amp;gt;&amp;gt; for autogra...</td>\n",
       "    </tr>\n",
       "    <tr>\n",
       "      <th>1380139</th>\n",
       "      <td>2</td>\n",
       "      <td>Goodnight tweets. 21 more days for my big brea...</td>\n",
       "    </tr>\n",
       "  </tbody>\n",
       "</table>\n",
       "</div>"
      ],
      "text/plain": [
       "         label                                               text\n",
       "818283       2  Heading out to the mall and the park with my k...\n",
       "622143       0  You'd think I'd know by now, but leaving car w...\n",
       "1384971      2                         @ThomasGudgeon Looks good \n",
       "1243910      2  Writing loads of  letters &gt;&gt; for autogra...\n",
       "1380139      2  Goodnight tweets. 21 more days for my big brea..."
      ]
     },
     "execution_count": 10,
     "metadata": {},
     "output_type": "execute_result"
    }
   ],
   "source": [
    "training.head()"
   ]
  },
  {
   "cell_type": "code",
   "execution_count": 11,
   "metadata": {},
   "outputs": [
    {
     "name": "stdout",
     "output_type": "stream",
     "text": [
      "118\n"
     ]
    }
   ],
   "source": [
    "# VECTORIZE DATASET\n",
    "\n",
    "vocab_size = 10000 # 5000 # 10000\n",
    "\n",
    "text = training['text'].to_numpy()\n",
    "\n",
    "tok = tf.keras.preprocessing.text.Tokenizer(num_words=vocab_size, oov_token='<unk>')\n",
    "\n",
    "tok.fit_on_texts(text)\n",
    "\n",
    "tok.word_index['<pad>'] = 0\n",
    "tok.index_word[0] = '<pad>'\n",
    "\n",
    "# pad vectors to maxlength\n",
    "train_text = training['text'].to_numpy()\n",
    "train_seqs = tok.texts_to_sequences(train_text)\n",
    "maxlength = max(len(i) for i in train_seqs)\n",
    "train_seqs = tf.keras.preprocessing.sequence.pad_sequences(train_seqs, maxlen=maxlength, padding='post')\n",
    "\n",
    "print(maxlength)"
   ]
  },
  {
   "cell_type": "code",
   "execution_count": 12,
   "metadata": {},
   "outputs": [],
   "source": [
    "train_labels = training['label'].to_numpy()\n",
    "train_labels = to_categorical(train_labels, num_classes=3, dtype='uint8')\n",
    "\n",
    "# pad vectors to maxlength (don't calculate automatically, or valid set will be of different size)\n",
    "valid_text = validation['text'].to_numpy()\n",
    "valid_seqs = tok.texts_to_sequences(valid_text)\n",
    "valid_seqs = tf.keras.preprocessing.sequence.pad_sequences(valid_seqs, maxlen=maxlength, padding='post')\n",
    "\n",
    "valid_labels = validation['label'].to_numpy()\n",
    "valid_labels = to_categorical(valid_labels, num_classes=3, dtype='uint8')\n",
    "\n",
    "# Use lowest possible types to speed up training\n",
    "train_seqs = train_seqs.astype('uint16')\n",
    "valid_seqs = valid_seqs.astype('uint16')\n",
    "\n",
    "# Convert to TF dataset format\n",
    "train_ds = tf.data.Dataset.from_tensor_slices((train_seqs,train_labels))\n",
    "valid_ds = tf.data.Dataset.from_tensor_slices((valid_seqs,valid_labels))"
   ]
  },
  {
   "cell_type": "code",
   "execution_count": 13,
   "metadata": {},
   "outputs": [],
   "source": [
    "import typing\n",
    "import numbers\n",
    "import os\n",
    "import unittest\n",
    "import random\n",
    "import copy"
   ]
  },
  {
   "cell_type": "code",
   "execution_count": 14,
   "metadata": {},
   "outputs": [],
   "source": [
    "# USEFUL FUNCTIONS\n",
    "\n",
    "def word2vec(words):\n",
    "    if isinstance(words, str):\n",
    "        \"Takes a string of words and returns a list of corresponding integers\"\n",
    "        seq = tok.texts_to_sequences([words])\n",
    "        return np.array(seq).flatten().tolist()\n",
    "    elif isinstance(words, typing.Iterable):\n",
    "        \"Takes a list of strings and returns a list of sequences (lists of corresponding integers)\"\n",
    "        return tok.texts_to_sequences(words)\n",
    "    else:\n",
    "        raise ValueError(f'Words were of type {type(words)} but should be either a string or list of strings')\n",
    "        \n",
    "\n",
    "def vec2word(vec:typing.Iterable[typing.Any]):\n",
    "    if isinstance(vec[0], numbers.Number):\n",
    "        \"Takes a list of ints and returns a corresponding string\"\n",
    "        return \" \".join([list(tok.word_index.keys())[i-1] for i in vec])\n",
    "    elif isinstance(vec[0], typing.Iterable):\n",
    "        \"Takes an array of sequences (i.e., a 2d array) and returns an array of strings\"\n",
    "        return [vec2word(i) for i in vec]\n",
    "    else:\n",
    "        raise ValueError( f'Input list should contain either ints or lists of ints, not {type(vec[0])}')\n",
    "\n",
    "def vec2word_no_pad(vec:typing.Iterable[typing.Any]):\n",
    "    \"Removes padding and converts vectors of ints to strings\"\n",
    "    if isinstance(vec[0], numbers.Number):\n",
    "        \"Takes a list of ints and returns a corresponding string\"\n",
    "        return \" \".join([list(tok.word_index.keys())[i-1] for i in vec if i != 0])\n",
    "    elif isinstance(vec[0], typing.Iterable):\n",
    "        \"Takes an array of sequences (i.e., a 2d array) and returns an array of strings\"\n",
    "        return [vec2word(i) for i in vec if i != 0]\n",
    "    else:\n",
    "        raise ValueError( f'Input list should contain either ints or lists of ints, not {type(vec[0])}')\n",
    "\n",
    "def show_batch(ds):\n",
    "    \"Takes a tensorflow dataset and returns a batch as a dataframe, with labels shown without padding\"\n",
    "    batch_vecs, batch_targets = next(iter(ds.batch(1)))  # iterate through dataset batches\n",
    "    batch_vecs, batch_targets = np.array(batch_vecs)[0], np.array(batch_targets)[0]  # convert tf batch to np array & reduce dimension by 1\n",
    "    return pd.DataFrame(zip(batch_vecs, [vec2word_no_pad(arr) for arr in batch_vecs], batch_targets), columns=['word_vec','text','target'])"
   ]
  },
  {
   "cell_type": "code",
   "execution_count": 15,
   "metadata": {},
   "outputs": [
    {
     "data": {
      "text/plain": [
       "[32, 64, 96, 128, 160, 192, 224, 256, 288]"
      ]
     },
     "execution_count": 15,
     "metadata": {},
     "output_type": "execute_result"
    }
   ],
   "source": [
    "[32*i for i in range(1,10)] # Choose a multiple of 32 for embedding dimension"
   ]
  },
  {
   "cell_type": "code",
   "execution_count": 16,
   "metadata": {},
   "outputs": [
    {
     "name": "stdout",
     "output_type": "stream",
     "text": [
      "118 10000 595012 2500 2 312\n"
     ]
    }
   ],
   "source": [
    "# TRAINING PARAMETERS\n",
    "\n",
    "# Calculates the max_length, which can be used to store the attention weights\n",
    "maxlength = max(len(i) for i in train_seqs)\n",
    "total_vocab_size = len(tok.word_index) # no need to add +1, word_index includes <pad>\n",
    "batch_size = 512 # 256 # 128 # 64\n",
    "buffer_size = 1000 # 500 # 1000\n",
    "embedding_dim = 64 # 32 # 64 # 128 # 256\n",
    "num_steps = len(train_text) // batch_size\n",
    "epochs = num_steps // buffer_size\n",
    "val_steps = len(valid_seqs) // batch_size // epochs\n",
    "learning_rate = 0.001 * 8\n",
    "\n",
    "print(maxlength, vocab_size, total_vocab_size, num_steps, epochs, val_steps)"
   ]
  },
  {
   "cell_type": "code",
   "execution_count": 17,
   "metadata": {},
   "outputs": [
    {
     "data": {
      "text/plain": [
       "<BatchDataset shapes: ((None, 118), (None, 3)), types: (tf.uint16, tf.uint8)>"
      ]
     },
     "execution_count": 17,
     "metadata": {},
     "output_type": "execute_result"
    }
   ],
   "source": [
    "# SHUFFLE AND BATCH\n",
    "\n",
    "train_batch = train_ds.shuffle(buffer_size).batch(batch_size)\n",
    "valid_batch = valid_ds.shuffle(buffer_size).batch(batch_size)\n",
    "train_prefetch = train_batch.prefetch(buffer_size=tf.data.AUTOTUNE) # prefetch speeds up training\n",
    "valid_prefetch = valid_batch.prefetch(buffer_size=tf.data.AUTOTUNE)\n",
    "\n",
    "valid_batch"
   ]
  },
  {
   "cell_type": "code",
   "execution_count": null,
   "metadata": {},
   "outputs": [],
   "source": [
    "# show_batch(valid_prefetch) # Note: determining <unk> words is a bottleneck"
   ]
  },
  {
   "cell_type": "code",
   "execution_count": 73,
   "metadata": {},
   "outputs": [
    {
     "data": {
      "image/png": "[encoded data removed]",
      "text/plain": [
       "<IPython.core.display.Image object>"
      ]
     },
     "execution_count": 73,
     "metadata": {},
     "output_type": "execute_result"
    }
   ],
   "source": [
    "# Model 1\n",
    "model = tf.keras.Sequential([\n",
    "    Embedding(vocab_size, embedding_dim, input_length=maxlength),\n",
    "    Bidirectional(LSTM(128,  return_sequences=True)),\n",
    "    Bidirectional(LSTM(64,  return_sequences=True)),\n",
    "    Bidirectional(LSTM(32)),\n",
    "    Dense(64, activation='relu'),\n",
    "    Dropout(0.5),\n",
    "    Dense(3, activation='softmax')\n",
    "])\n",
    "\n",
    "plot_model(model, to_file=\"image/base_model.png\", show_shapes=True)"
   ]
  },
  {
   "cell_type": "code",
   "execution_count": 25,
   "metadata": {},
   "outputs": [],
   "source": [
    "# model.compile(loss=tf.keras.losses.BinaryCrossentropy(from_logits=True),\n",
    "#               optimizer=tf.keras.optimizers.Adam(1e-4),\n",
    "#               metrics=['accuracy'])\n",
    "\n",
    "model.compile(optimizer='adam',\n",
    "              loss='categorical_crossentropy', # categorical_crossentropy for multilabel classification\n",
    "              metrics=['accuracy'])"
   ]
  },
  {
   "cell_type": "code",
   "execution_count": 26,
   "metadata": {},
   "outputs": [
    {
     "name": "stdout",
     "output_type": "stream",
     "text": [
      "Epoch 1/2\n",
      "1000/1000 [==============================] - 296s 289ms/step - loss: 0.4891 - accuracy: 0.7623 - val_loss: 0.4221 - val_accuracy: 0.8030\n",
      "Epoch 2/2\n",
      "1000/1000 [==============================] - 283s 283ms/step - loss: 0.4224 - accuracy: 0.8099 - val_loss: 0.4075 - val_accuracy: 0.8135\n"
     ]
    }
   ],
   "source": [
    "log_dir = \"log/fit/\" + datetime.datetime.now().strftime(\"Model_1-%Y%m%d-%H%M%S\")\n",
    "tensorboard_callback = tf.keras.callbacks.TensorBoard(log_dir=log_dir, histogram_freq=1)\n",
    "\n",
    "history = model.fit(\n",
    "    train_prefetch,\n",
    "    epochs=epochs,\n",
    "    validation_data=valid_prefetch,\n",
    "    validation_steps=val_steps,\n",
    "    steps_per_epoch=buffer_size,\n",
    "    callbacks=[tensorboard_callback]\n",
    "    )"
   ]
  },
  {
   "cell_type": "code",
   "execution_count": 90,
   "metadata": {},
   "outputs": [
    {
     "data": {
      "image/png": "[encoded data removed]",
      "text/plain": [
       "<IPython.core.display.Image object>"
      ]
     },
     "execution_count": 90,
     "metadata": {},
     "output_type": "execute_result"
    }
   ],
   "source": [
    "# Model 2\n",
    "model_2 = tf.keras.Sequential([\n",
    "    Embedding(vocab_size, embedding_dim, input_length=maxlength),\n",
    "    Bidirectional(LSTM(64,  return_sequences=True)),\n",
    "    Bidirectional(LSTM(32)),\n",
    "    Dense(64, activation='relu'),\n",
    "    Dense(3, activation='sigmoid')\n",
    "])\n",
    "\n",
    "plot_model(model_2, to_file=\"image/improvement_model.png\", show_shapes=True)"
   ]
  },
  {
   "cell_type": "code",
   "execution_count": 91,
   "metadata": {},
   "outputs": [],
   "source": [
    "# model.compile(loss=tf.keras.losses.BinaryCrossentropy(from_logits=True),\n",
    "#               optimizer=tf.keras.optimizers.Adam(1e-4),\n",
    "#               metrics=['accuracy'])\n",
    "\n",
    "model_2.compile(optimizer='adam',\n",
    "              loss='categorical_crossentropy', # categorical_crossentropy for multilabel classification\n",
    "              metrics=['accuracy'])"
   ]
  },
  {
   "cell_type": "code",
   "execution_count": 93,
   "metadata": {},
   "outputs": [
    {
     "name": "stdout",
     "output_type": "stream",
     "text": [
      "Epoch 1/5\n",
      "2500/2500 [==============================] - 324s 129ms/step - loss: 0.3900 - accuracy: 0.8223 - val_loss: 0.3915 - val_accuracy: 0.8218\n",
      "Epoch 2/5\n",
      "2500/2500 [==============================] - 322s 129ms/step - loss: 0.3744 - accuracy: 0.8307 - val_loss: 0.3883 - val_accuracy: 0.8238\n",
      "Epoch 3/5\n",
      "2500/2500 [==============================] - 326s 130ms/step - loss: 0.3605 - accuracy: 0.8378 - val_loss: 0.3910 - val_accuracy: 0.8240\n",
      "Epoch 4/5\n",
      "2500/2500 [==============================] - 324s 129ms/step - loss: 0.3464 - accuracy: 0.8455 - val_loss: 0.4009 - val_accuracy: 0.8224\n",
      "Epoch 5/5\n",
      "2500/2500 [==============================] - 327s 131ms/step - loss: 0.3324 - accuracy: 0.8534 - val_loss: 0.4132 - val_accuracy: 0.8208\n"
     ]
    }
   ],
   "source": [
    "log_dir = \"log/fit/\" + datetime.datetime.now().strftime(\"Model_2-%Y%m%d-%H%M%S\")\n",
    "tensorboard_callback = tf.keras.callbacks.TensorBoard(log_dir=log_dir, histogram_freq=1)\n",
    "\n",
    "history = model_2.fit(\n",
    "    train_prefetch,\n",
    "    epochs=5,\n",
    "    validation_data=valid_prefetch\n",
    "    )"
   ]
  },
  {
   "cell_type": "markdown",
   "metadata": {},
   "source": [
    "### Preparing Test Data"
   ]
  },
  {
   "cell_type": "code",
   "execution_count": 28,
   "metadata": {},
   "outputs": [],
   "source": [
    "testdata_df = pd.read_csv(\"dataset/testdata.manual.2009.06.14.csv\", usecols=[0,5], header=None, names=['label','text'],encoding='latin-1')"
   ]
  },
  {
   "cell_type": "code",
   "execution_count": 29,
   "metadata": {},
   "outputs": [
    {
     "data": {
      "text/html": [
       "<div>\n",
       "<style scoped>\n",
       "    .dataframe tbody tr th:only-of-type {\n",
       "        vertical-align: middle;\n",
       "    }\n",
       "\n",
       "    .dataframe tbody tr th {\n",
       "        vertical-align: top;\n",
       "    }\n",
       "\n",
       "    .dataframe thead th {\n",
       "        text-align: right;\n",
       "    }\n",
       "</style>\n",
       "<table border=\"1\" class=\"dataframe\">\n",
       "  <thead>\n",
       "    <tr style=\"text-align: right;\">\n",
       "      <th></th>\n",
       "      <th>label</th>\n",
       "      <th>text</th>\n",
       "    </tr>\n",
       "  </thead>\n",
       "  <tbody>\n",
       "    <tr>\n",
       "      <th>0</th>\n",
       "      <td>4</td>\n",
       "      <td>@stellargirl I loooooooovvvvvveee my Kindle2. ...</td>\n",
       "    </tr>\n",
       "    <tr>\n",
       "      <th>1</th>\n",
       "      <td>4</td>\n",
       "      <td>Reading my kindle2...  Love it... Lee childs i...</td>\n",
       "    </tr>\n",
       "    <tr>\n",
       "      <th>2</th>\n",
       "      <td>4</td>\n",
       "      <td>Ok, first assesment of the #kindle2 ...it fuck...</td>\n",
       "    </tr>\n",
       "    <tr>\n",
       "      <th>3</th>\n",
       "      <td>4</td>\n",
       "      <td>@kenburbary You'll love your Kindle2. I've had...</td>\n",
       "    </tr>\n",
       "    <tr>\n",
       "      <th>4</th>\n",
       "      <td>4</td>\n",
       "      <td>@mikefish  Fair enough. But i have the Kindle2...</td>\n",
       "    </tr>\n",
       "  </tbody>\n",
       "</table>\n",
       "</div>"
      ],
      "text/plain": [
       "   label                                               text\n",
       "0      4  @stellargirl I loooooooovvvvvveee my Kindle2. ...\n",
       "1      4  Reading my kindle2...  Love it... Lee childs i...\n",
       "2      4  Ok, first assesment of the #kindle2 ...it fuck...\n",
       "3      4  @kenburbary You'll love your Kindle2. I've had...\n",
       "4      4  @mikefish  Fair enough. But i have the Kindle2..."
      ]
     },
     "execution_count": 29,
     "metadata": {},
     "output_type": "execute_result"
    }
   ],
   "source": [
    "testdata_df.head(5)"
   ]
  },
  {
   "cell_type": "code",
   "execution_count": 30,
   "metadata": {},
   "outputs": [],
   "source": [
    "# For Classification: Convert Labels to negative = 0, neutral = 1, postive = 2 \n",
    "testdata_df.loc[testdata_df['label'] == 2, 'label'] = 1\n",
    "testdata_df.loc[testdata_df['label'] == 4, 'label'] = 2"
   ]
  },
  {
   "cell_type": "code",
   "execution_count": 33,
   "metadata": {},
   "outputs": [
    {
     "data": {
      "text/html": [
       "<div>\n",
       "<style scoped>\n",
       "    .dataframe tbody tr th:only-of-type {\n",
       "        vertical-align: middle;\n",
       "    }\n",
       "\n",
       "    .dataframe tbody tr th {\n",
       "        vertical-align: top;\n",
       "    }\n",
       "\n",
       "    .dataframe thead th {\n",
       "        text-align: right;\n",
       "    }\n",
       "</style>\n",
       "<table border=\"1\" class=\"dataframe\">\n",
       "  <thead>\n",
       "    <tr style=\"text-align: right;\">\n",
       "      <th></th>\n",
       "      <th>label</th>\n",
       "      <th>text</th>\n",
       "    </tr>\n",
       "  </thead>\n",
       "  <tbody>\n",
       "    <tr>\n",
       "      <th>493</th>\n",
       "      <td>1</td>\n",
       "      <td>Ask Programming: LaTeX or InDesign?: submitted...</td>\n",
       "    </tr>\n",
       "    <tr>\n",
       "      <th>494</th>\n",
       "      <td>0</td>\n",
       "      <td>On that note, I hate Word. I hate Pages. I hat...</td>\n",
       "    </tr>\n",
       "    <tr>\n",
       "      <th>495</th>\n",
       "      <td>2</td>\n",
       "      <td>Ahhh... back in a *real* text editing environm...</td>\n",
       "    </tr>\n",
       "    <tr>\n",
       "      <th>496</th>\n",
       "      <td>0</td>\n",
       "      <td>Trouble in Iran, I see. Hmm. Iran. Iran so far...</td>\n",
       "    </tr>\n",
       "    <tr>\n",
       "      <th>497</th>\n",
       "      <td>0</td>\n",
       "      <td>Reading the tweets coming out of Iran... The w...</td>\n",
       "    </tr>\n",
       "  </tbody>\n",
       "</table>\n",
       "</div>"
      ],
      "text/plain": [
       "     label                                               text\n",
       "493      1  Ask Programming: LaTeX or InDesign?: submitted...\n",
       "494      0  On that note, I hate Word. I hate Pages. I hat...\n",
       "495      2  Ahhh... back in a *real* text editing environm...\n",
       "496      0  Trouble in Iran, I see. Hmm. Iran. Iran so far...\n",
       "497      0  Reading the tweets coming out of Iran... The w..."
      ]
     },
     "execution_count": 33,
     "metadata": {},
     "output_type": "execute_result"
    }
   ],
   "source": [
    "testdata_df.tail(5)"
   ]
  },
  {
   "cell_type": "code",
   "execution_count": 41,
   "metadata": {},
   "outputs": [],
   "source": [
    "test_text = testdata_df['text'].to_numpy()\n",
    "test_seqs = tok.texts_to_sequences(test_text)\n",
    "test_seqs = tf.keras.preprocessing.sequence.pad_sequences(test_seqs, maxlen=maxlength, padding='post')\n",
    "\n",
    "test_labels = testdata_df['label'].to_numpy()\n",
    "test_labels = to_categorical(test_labels, num_classes=3, dtype='uint8')"
   ]
  },
  {
   "cell_type": "code",
   "execution_count": 44,
   "metadata": {},
   "outputs": [
    {
     "name": "stdout",
     "output_type": "stream",
     "text": [
      "16/16 [==============================] - 0s 29ms/step - loss: 5.6346 - accuracy: 0.5904 0s - loss: 5.0855 - accuracy: \n"
     ]
    },
    {
     "data": {
      "text/plain": [
       "[5.6346116065979, 0.5903614163398743]"
      ]
     },
     "execution_count": 44,
     "metadata": {},
     "output_type": "execute_result"
    }
   ],
   "source": [
    "model.evaluate(test_seqs, test_labels, callbacks=[tensorboard_evaluate_callback])"
   ]
  },
  {
   "cell_type": "code",
   "execution_count": 94,
   "metadata": {},
   "outputs": [
    {
     "name": "stdout",
     "output_type": "stream",
     "text": [
      "16/16 [==============================] - 1s 16ms/step - loss: 7.0459 - accuracy: 0.5904\n"
     ]
    },
    {
     "data": {
      "text/plain": [
       "[7.045896053314209, 0.5903614163398743]"
      ]
     },
     "execution_count": 94,
     "metadata": {},
     "output_type": "execute_result"
    }
   ],
   "source": [
    "model_2.evaluate(test_seqs, test_labels)"
   ]
  },
  {
   "cell_type": "code",
   "execution_count": 51,
   "metadata": {},
   "outputs": [],
   "source": [
    "pred_Y = model.predict(test_seqs)\n",
    "\n",
    "# one-hot vector covert to class\n",
    "pred_Y = np.argmax(pred_Y, axis=1)\n",
    "true_Y = np.argmax(test_labels, axis=1)"
   ]
  },
  {
   "cell_type": "code",
   "execution_count": 54,
   "metadata": {},
   "outputs": [],
   "source": [
    "# DRAW confusion-matrix\n",
    "from sklearn.metrics import confusion_matrix\n",
    "import seaborn as sns\n",
    "import matplotlib.pyplot as plt"
   ]
  },
  {
   "cell_type": "code",
   "execution_count": 55,
   "metadata": {},
   "outputs": [],
   "source": [
    "conf_matrix = confusion_matrix(true_Y, pred_Y)"
   ]
  },
  {
   "cell_type": "code",
   "execution_count": 58,
   "metadata": {},
   "outputs": [
    {
     "data": {
      "text/plain": [
       "array([[131,   0,  46],\n",
       "       [ 20,   0, 119],\n",
       "       [ 19,   0, 163]], dtype=int64)"
      ]
     },
     "execution_count": 58,
     "metadata": {},
     "output_type": "execute_result"
    }
   ],
   "source": [
    "conf_matrix"
   ]
  },
  {
   "cell_type": "code",
   "execution_count": 63,
   "metadata": {},
   "outputs": [
    {
     "data": {
      "image/png": "[encoded data removed]",
      "text/plain": [
       "<Figure size 432x288 with 2 Axes>"
      ]
     },
     "metadata": {
      "needs_background": "light"
     },
     "output_type": "display_data"
    }
   ],
   "source": [
    "fig, ax = plt.subplots()         # Sample figsize in inches\n",
    "fig = sns.heatmap(conf_matrix, annot=True, fmt='d', linewidths=.5, ax=ax)"
   ]
  },
  {
   "cell_type": "code",
   "execution_count": 64,
   "metadata": {},
   "outputs": [],
   "source": [
    "fig = fig.get_figure()\n",
    "fig.savefig(\"image/confusion_matrix.png\")"
   ]
  }
 ],
 "metadata": {
  "kernelspec": {
   "display_name": "Python 3",
   "language": "python",
   "name": "python3"
  },
  "language_info": {
   "codemirror_mode": {
    "name": "ipython",
    "version": 3
   },
   "file_extension": ".py",
   "mimetype": "text/x-python",
   "name": "python",
   "nbconvert_exporter": "python",
   "pygments_lexer": "ipython3",
   "version": "3.8.8"
  }
 },
 "nbformat": 4,
 "nbformat_minor": 4
}
