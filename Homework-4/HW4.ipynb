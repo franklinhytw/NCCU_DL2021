{
 "cells": [
  {
   "cell_type": "code",
   "execution_count": null,
   "metadata": {},
   "outputs": [],
   "source": [
    "# Reference https://ithelp.ithome.com.tw/articles/10223922"
   ]
  },
  {
   "cell_type": "code",
   "execution_count": 1,
   "metadata": {},
   "outputs": [],
   "source": [
    "import numpy as np\n",
    "import nltk\n",
    "\n",
    "import tensorflow_datasets as tfds\n",
    "import tensorflow as tf\n",
    "\n",
    "tfds.disable_progress_bar()"
   ]
  },
  {
   "cell_type": "code",
   "execution_count": 2,
   "metadata": {},
   "outputs": [],
   "source": [
    "import matplotlib.pyplot as plt\n",
    "\n",
    "\n",
    "def plot_graphs(history, metric):\n",
    "  plt.plot(history.history[metric])\n",
    "  plt.plot(history.history['val_'+metric], '')\n",
    "  plt.xlabel(\"Epochs\")\n",
    "  plt.ylabel(metric)\n",
    "  plt.legend([metric, 'val_'+metric])"
   ]
  },
  {
   "cell_type": "code",
   "execution_count": 3,
   "metadata": {},
   "outputs": [
    {
     "data": {
      "text/plain": [
       "(TensorSpec(shape=(), dtype=tf.string, name=None),\n",
       " TensorSpec(shape=(), dtype=tf.int32, name=None))"
      ]
     },
     "execution_count": 3,
     "metadata": {},
     "output_type": "execute_result"
    }
   ],
   "source": [
    "dataset = tfds.load('sentiment140', as_supervised=True)\n",
    "train_dataset, test_dataset = dataset['train'], dataset['test']\n",
    "\n",
    "train_dataset.element_spec"
   ]
  },
  {
   "cell_type": "code",
   "execution_count": 17,
   "metadata": {},
   "outputs": [
    {
     "ename": "AttributeError",
     "evalue": "'bytes' object has no attribute 'shape'",
     "output_type": "error",
     "traceback": [
      "\u001b[1;31m---------------------------------------------------------------------------\u001b[0m",
      "\u001b[1;31mAttributeError\u001b[0m                            Traceback (most recent call last)",
      "\u001b[1;32m<ipython-input-17-4c67974fe53f>\u001b[0m in \u001b[0;36m<module>\u001b[1;34m\u001b[0m\n\u001b[0;32m      1\u001b[0m \u001b[1;32mfor\u001b[0m \u001b[0mtext\u001b[0m\u001b[1;33m,\u001b[0m \u001b[0mlabel\u001b[0m \u001b[1;32min\u001b[0m \u001b[0mtrain_dataset\u001b[0m\u001b[1;33m.\u001b[0m\u001b[0mtake\u001b[0m\u001b[1;33m(\u001b[0m\u001b[1;36m1\u001b[0m\u001b[1;33m)\u001b[0m\u001b[1;33m:\u001b[0m\u001b[1;33m\u001b[0m\u001b[1;33m\u001b[0m\u001b[0m\n\u001b[0;32m      2\u001b[0m     \u001b[0mt\u001b[0m \u001b[1;33m=\u001b[0m \u001b[0mtext\u001b[0m\u001b[1;33m.\u001b[0m\u001b[0mnumpy\u001b[0m\u001b[1;33m(\u001b[0m\u001b[1;33m)\u001b[0m\u001b[1;33m\u001b[0m\u001b[1;33m\u001b[0m\u001b[0m\n\u001b[1;32m----> 3\u001b[1;33m     \u001b[0mprint\u001b[0m\u001b[1;33m(\u001b[0m\u001b[0mt\u001b[0m\u001b[1;33m.\u001b[0m\u001b[0mshape\u001b[0m\u001b[1;33m(\u001b[0m\u001b[1;33m)\u001b[0m\u001b[1;33m)\u001b[0m\u001b[1;33m\u001b[0m\u001b[1;33m\u001b[0m\u001b[0m\n\u001b[0m",
      "\u001b[1;31mAttributeError\u001b[0m: 'bytes' object has no attribute 'shape'"
     ]
    }
   ],
   "source": [
    "for text, label in train_dataset.take(1):\n",
    "    t = text.numpy()\n",
    "    print(t.shape())"
   ]
  },
  {
   "cell_type": "code",
   "execution_count": 37,
   "metadata": {},
   "outputs": [
    {
     "name": "stdout",
     "output_type": "stream",
     "text": [
      "text:  b\"i'm 10x cooler than all of you! \"\n",
      "label:  4\n",
      "text:  b'O.kk? Thats weird I cant stop following people on twitter... I have tons of people to unfollow '\n",
      "label:  0\n"
     ]
    }
   ],
   "source": [
    "for text, label in train_dataset.take(2):\n",
    "    print('text: ', text.numpy())\n",
    "    print('label: ', label.numpy())"
   ]
  },
  {
   "cell_type": "code",
   "execution_count": 38,
   "metadata": {},
   "outputs": [],
   "source": [
    "BUFFER_SIZE = 10000\n",
    "BATCH_SIZE = 64"
   ]
  },
  {
   "cell_type": "code",
   "execution_count": 39,
   "metadata": {},
   "outputs": [],
   "source": [
    "train_dataset = train_dataset.shuffle(BUFFER_SIZE).batch(BATCH_SIZE).prefetch(tf.data.AUTOTUNE)\n",
    "test_dataset = test_dataset.batch(BATCH_SIZE).prefetch(tf.data.AUTOTUNE)"
   ]
  },
  {
   "cell_type": "code",
   "execution_count": 42,
   "metadata": {},
   "outputs": [
    {
     "name": "stdout",
     "output_type": "stream",
     "text": [
      "texts:  [b\"@ananyah I don't love you no mo \"\n",
      " b\"@jonasbrothers   I hope you get your videos back up on your account  I'll be so sad if you don't.\"\n",
      " b'@TimJackson congratulations Mr &amp; Mrs  Jackson '\n",
      " b\"Can't decide between Fuzzball and BGT  http://fuzz-ball.com/twitter\"\n",
      " b'had fun with @mizzjblog and @TheStyleSpy at Wink Beauty Lounge. Also stoked to try new products! '\n",
      " b'@averygoodyear good morning honey.  Love you too '\n",
      " b'http://twitpic.com/6g4er - I tried getting picked up in a prom dress while trying to be JULIET '\n",
      " b'making networks with new websites '\n",
      " b\"Well i'm not gonna be takin classes this semester. Start in fall. \"\n",
      " b'bout to watch quantum of solace ... will report back with review '\n",
      " b'videos will be frozen until actual views catch up to the published,  artificial, view count - OOFM was already frozen when we got to it '\n",
      " b\"@johanlouwers luckily i am in my parent's crib at the Belgian sea. good times \"\n",
      " b\"With Alexa, waiting for tay.   the kardashin's are bitches.&lt;3\"\n",
      " b\"Tula's sick! Nausious, Nasal congestion, headache, bodyaches and my nose is running a marathon. Theraflu please help \"\n",
      " b\"babe' where are you ?? hope you feelin better \"\n",
      " b'Thank You universe for the great conversation with the opposite sex last night and for opening my eyes..flying europe today! '\n",
      " b\"fell asleep on the sofa now I'm gonna beup all night \"\n",
      " b'Litsong RABBIT??.kawawa nmn sila. (tears)  http://plurk.com/p/12g2ku'\n",
      " b'needed a night like tonight, thanks sweetheart '\n",
      " b\"@JeremyCShipp   You'll be getting an email either tomorrow or Saturday. Still working on it.  No pressure \"\n",
      " b\"Heading to door with geoff daddy and Ryan Ross daddy... @lanejohnson daddy got too drunk to go out tonight.  he's still living it though\"\n",
      " b\"Sneaking in some internet time while Mum's at a workshop. If you're waiting on a tag from me, you'll get it now. Headed uptown next! \"\n",
      " b\"Oh, I had the best evening last night !!! At Gib's...... \"\n",
      " b'@RSDixon A new genre of porn -- ailment porn! I bet enough guys get turned on by pink eye to make some money '\n",
      " b'@pendolino shower gels n extra bubbles with some bath salt  sometimes i add flower water and milk '\n",
      " b'@bekimarie Thanks for suggestion, tried hot choc and it did help! Not the same as a huge bar of dairy milk but nice anyway '\n",
      " b'@virtualjean Thanks Jean! '\n",
      " b'Hey @patty_la chales siempre llego tarde   (patty_la live &gt; http://ustre.am/1Ale)'\n",
      " b\"@Asynjur must live in a blackhole!  I've been eyeing different flavors lately, cause i'm waiting for my SLUSH MUG to arrive \"\n",
      " b\"might have spoken too soon about the router. don't see anything running on that computer til i get a new hard drive \"\n",
      " b'fuck im soooo hungry. i havnt had breakfast or lunch '\n",
      " b'@3drik lmao i thought it was fuck the world...so i guess im wrong '\n",
      " b'nicest day of the year so far? ... it really is revision / exam time '\n",
      " b'Thankful for family today ' b'@siriuslyheather Aww, that sux '\n",
      " b'@taylorswift13 my sister, my nephews and nieces are so much into your music  .. and my wife sang it very well! keep it up!'\n",
      " b\"@ellekebesselink Didn't found anyone yet  Keep you posted! ;)\"\n",
      " b\"@SaschaV yuppo. I've not plugged in yet but I found the DSL modem in each room interesting. Would love to know the details \"\n",
      " b'morning children. its rather cold isnt it. cnt sleep anymore  bricking it for the exams '\n",
      " b\"@FearCake oy best of luck at the doc's!  i hope it's nothing too serious and that you feel better soon\"\n",
      " b'Talking to Grace '\n",
      " b'Watching The Hills Finale! I love The Hills  .. and Lauren looked so pretty on the red carpet at the MTV Movie Awards '\n",
      " b'@ASECONDCHANCE oh good!! now you can relax '\n",
      " b'@linkerjpatrick Yes, ,I am very excited about my new power! Thanks!! '\n",
      " b'@CharlotteSpeaks why are you selling your dark room equipment?  Are you going digital? '\n",
      " b\"#Lazyweb Anyone know where I can download Saturday's TT from the Giro d'Italia? I forgot to Sky+ it. \"\n",
      " b'going to go workout! ' b'@mbl4889 I do not know. '\n",
      " b'@Lkudrow phoeeeeeeeebie  hows things?'\n",
      " b'@pauljbarriejr WOO HOO!!! thanks, man.  jealous and excited ur getting the iPhone 3G[s] ... looking forward to Pre in Jan '\n",
      " b'@Samamie_Tee Haha I just looked them up online because I totally want to try. Only $12 for 12. Is it pathetic if I actually order them?  '\n",
      " b\"listening to jams on my ipod cuz i can't sleep.... have to get up early tomorrow  booo!\"\n",
      " b\"Ok, so my first yoga sock is almost done... but I tried it on &amp; it's definitely TOO BIG. Booooo. I like my socks more fitted than that. \"\n",
      " b'@iminlatrick again, why do you always have bomb food and never share it? '\n",
      " b'@erinhuggins peeps helping me with drops tell me it takes time..can takes MONTHS bc of my level of fatigue '\n",
      " b\"@mitchelmusso i wish I could go but I don't live in CA. \"\n",
      " b' just annoyed'\n",
      " b\":'( stupid arnold clark aint did all they said they would to my car so i have to take it there today \"\n",
      " b'back from lunch.. still hungry '\n",
      " b\"@johnhawkinsrwn  What's wrong with it?\" b'Office 2007 instalado '\n",
      " b'Frost hisses at the baby '\n",
      " b'Loving the British weather, despite the fact someones not following me anymore  so lonely old becks again!!'\n",
      " b\"@peacelovetylr Lol yeah didn't mean to put your phone on blast \"]\n",
      "\n",
      "labels:  [0 0 4 4 4 4 4 4 0 4 0 4 4 0 0 4 0 0 4 4 0 4 4 4 4 4 4 0 4 0 0 4 0 4 0 4 0\n",
      " 4 0 0 4 4 4 4 0 0 0 0 4 4 4 0 0 0 0 0 0 0 0 0 0 0 0 0]\n",
      "64\n"
     ]
    }
   ],
   "source": [
    "for example, label in train_dataset.take(1):\n",
    "  print('texts: ', example.numpy())\n",
    "  print()\n",
    "  print('labels: ', label.numpy())\n",
    "  print(len(label.numpy()))"
   ]
  },
  {
   "cell_type": "code",
   "execution_count": null,
   "metadata": {},
   "outputs": [],
   "source": []
  }
 ],
 "metadata": {
  "kernelspec": {
   "display_name": "Python 3",
   "language": "python",
   "name": "python3"
  },
  "language_info": {
   "codemirror_mode": {
    "name": "ipython",
    "version": 3
   },
   "file_extension": ".py",
   "mimetype": "text/x-python",
   "name": "python",
   "nbconvert_exporter": "python",
   "pygments_lexer": "ipython3",
   "version": "3.8.5"
  }
 },
 "nbformat": 4,
 "nbformat_minor": 4
}
